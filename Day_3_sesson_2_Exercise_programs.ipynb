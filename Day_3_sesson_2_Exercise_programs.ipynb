{
  "nbformat": 4,
  "nbformat_minor": 0,
  "metadata": {
    "colab": {
      "name": "Day_3_sesson_2_Exercise_programs.ipynb",
      "provenance": [],
      "authorship_tag": "ABX9TyOsiThcsb3pxnUkzEgAe4vI",
      "include_colab_link": true
    },
    "kernelspec": {
      "name": "python3",
      "display_name": "Python 3"
    }
  },
  "cells": [
    {
      "cell_type": "markdown",
      "metadata": {
        "id": "view-in-github",
        "colab_type": "text"
      },
      "source": [
        "<a href=\"https://colab.research.google.com/github/ksprajwalgowda/Python-workshop/blob/master/Day_3_sesson_2_Exercise_programs.ipynb\" target=\"_parent\"><img src=\"https://colab.research.google.com/assets/colab-badge.svg\" alt=\"Open In Colab\"/></a>"
      ]
    },
    {
      "cell_type": "code",
      "metadata": {
        "id": "EMAiPZYcg2Q3",
        "colab_type": "code",
        "colab": {
          "base_uri": "https://localhost:8080/",
          "height": 202
        },
        "outputId": "499b8c75-a699-4c2d-86ba-f3594706d966"
      },
      "source": [
        "\n",
        "# Write a Python Program to Print Multiplication Table of a  number which got through keyboard.\n",
        "n = int(input(\"Enter a number : \"))\n",
        "for i in range(1,11):\n",
        "  print(f\"{n} x {i} = {n*i}\")"
      ],
      "execution_count": 1,
      "outputs": [
        {
          "output_type": "stream",
          "text": [
            "Enter a number : 7\n",
            "7 x 1 = 7\n",
            "7 x 2 = 14\n",
            "7 x 3 = 21\n",
            "7 x 4 = 28\n",
            "7 x 5 = 35\n",
            "7 x 6 = 42\n",
            "7 x 7 = 49\n",
            "7 x 8 = 56\n",
            "7 x 9 = 63\n",
            "7 x 10 = 70\n"
          ],
          "name": "stdout"
        }
      ]
    },
    {
      "cell_type": "code",
      "metadata": {
        "id": "X8gra8Ufg7Xu",
        "colab_type": "code",
        "colab": {
          "base_uri": "https://localhost:8080/",
          "height": 101
        },
        "outputId": "8010b070-e7e6-49fd-dbe1-9ff8f8ce6733"
      },
      "source": [
        "# Write a  Python Program to find the Armstrong Numbers between 1 and 2000 ( i.e 153 is amtrong numbers as 1**3+5**3+3**3=153 )\n",
        "for i in range(1,2001):\n",
        "  l = list(map(int,str(i).strip()))\n",
        "  li = [x**3 for x in l]\n",
        "  if i == sum(li):\n",
        "      print(i)"
      ],
      "execution_count": 2,
      "outputs": [
        {
          "output_type": "stream",
          "text": [
            "1\n",
            "153\n",
            "370\n",
            "371\n",
            "407\n"
          ],
          "name": "stdout"
        }
      ]
    },
    {
      "cell_type": "code",
      "metadata": {
        "id": "1DlhgkhyhCvO",
        "colab_type": "code",
        "colab": {
          "base_uri": "https://localhost:8080/",
          "height": 235
        },
        "outputId": "f1d0a20d-3756-4e0d-a3a4-2e500fa177c7"
      },
      "source": [
        "#Write a python program to get the list of tuples (rollno, name) for n students by getting rollno and name through keyboard. Sort and print  them as rollno wise and name wise both ascending and descending as well as alphabetical and dealphabetical orders\n",
        "l = [(int(input(\"Enter rollno of student %d : \"%i)),input(\"Enter name of student %d : \"%i)) for i in range(1,int(input(\"Enter number of students : \"))+1)]\n",
        "print(\"Soted rollno wise in ascending order : \",sorted(l, key = lambda x: x[0]))\n",
        "print(\"Soted rollno wise in descending order : \",sorted(l, key = lambda x: x[0], reverse=True))\n",
        "print(\"Soted name length wise in ascending order : \",sorted(l, key = lambda x: len(x[1])))\n",
        "print(\"Soted name length wise in descending order : \",sorted(l, key = lambda x: len(x[1]), reverse=True))\n",
        "print(\"Sorted in alphabetical order : \",sorted(l,key = lambda x:x[1]))\n",
        "print(\"Sorted in dealphabetical order : \",sorted(l,key = lambda x:x[1],reverse = True))"
      ],
      "execution_count": 3,
      "outputs": [
        {
          "output_type": "stream",
          "text": [
            "Enter number of students : 3\n",
            "Enter rollno of student 1 : 25\n",
            "Enter name of student 1 : ram\n",
            "Enter rollno of student 2 : 26\n",
            "Enter name of student 2 : anil\n",
            "Enter rollno of student 3 : 27\n",
            "Enter name of student 3 : cuper\n",
            "Soted rollno wise in ascending order :  [(25, 'ram'), (26, 'anil'), (27, 'cuper')]\n",
            "Soted rollno wise in descending order :  [(27, 'cuper'), (26, 'anil'), (25, 'ram')]\n",
            "Soted name length wise in ascending order :  [(25, 'ram'), (26, 'anil'), (27, 'cuper')]\n",
            "Soted name length wise in descending order :  [(27, 'cuper'), (26, 'anil'), (25, 'ram')]\n",
            "Sorted in alphabetical order :  [(26, 'anil'), (27, 'cuper'), (25, 'ram')]\n",
            "Sorted in dealphabetical order :  [(25, 'ram'), (27, 'cuper'), (26, 'anil')]\n"
          ],
          "name": "stdout"
        }
      ]
    },
    {
      "cell_type": "code",
      "metadata": {
        "id": "L5rGxRRkhH8-",
        "colab_type": "code",
        "colab": {
          "base_uri": "https://localhost:8080/",
          "height": 67
        },
        "outputId": "f6584e3b-72c1-4c3a-caf3-19ca80f4c9d7"
      },
      "source": [
        "#Python Program to Detect if Two Strings are Anagrams ( They are  the two strings which have same length and same words which may be different in their order)\n",
        "if(sorted(input(\"Enter string 1 : \")) == sorted(input(\"Enter string 2 : \"))):\n",
        "  print(\"Anagrams\")\n",
        "else:\n",
        "  print(\"Not anagrams\")"
      ],
      "execution_count": 4,
      "outputs": [
        {
          "output_type": "stream",
          "text": [
            "Enter string 1 : tea\n",
            "Enter string 2 : ate\n",
            "Anagrams\n"
          ],
          "name": "stdout"
        }
      ]
    },
    {
      "cell_type": "code",
      "metadata": {
        "id": "qr-Hok_hhXj4",
        "colab_type": "code",
        "colab": {}
      },
      "source": [
        ""
      ],
      "execution_count": null,
      "outputs": []
    }
  ]
}