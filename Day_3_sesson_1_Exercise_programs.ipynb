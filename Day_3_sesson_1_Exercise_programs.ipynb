{
  "nbformat": 4,
  "nbformat_minor": 0,
  "metadata": {
    "colab": {
      "name": "Day_3_sesson_1_Exercise_programs.ipynb",
      "provenance": [],
      "authorship_tag": "ABX9TyNTVpr79IhO7ECiBhBIpqxH",
      "include_colab_link": true
    },
    "kernelspec": {
      "name": "python3",
      "display_name": "Python 3"
    }
  },
  "cells": [
    {
      "cell_type": "markdown",
      "metadata": {
        "id": "view-in-github",
        "colab_type": "text"
      },
      "source": [
        "<a href=\"https://colab.research.google.com/github/ksprajwalgowda/Python-workshop/blob/master/Day_3_sesson_1_Exercise_programs.ipynb\" target=\"_parent\"><img src=\"https://colab.research.google.com/assets/colab-badge.svg\" alt=\"Open In Colab\"/></a>"
      ]
    },
    {
      "cell_type": "code",
      "metadata": {
        "id": "NASu4kHJf9FB",
        "colab_type": "code",
        "colab": {
          "base_uri": "https://localhost:8080/",
          "height": 34
        },
        "outputId": "2fdc398d-0c53-4cd3-edff-430d83e91212"
      },
      "source": [
        "# Write a Python program to find numbers between 100 and 400 (both included) which are divisable both by 5 or 7. The numbers obtained should be printed in a comma-separated sequence\n",
        "print(str([x for x in range(100,401) if x%5==0 and x%7==0])[1:-1])"
      ],
      "execution_count": 1,
      "outputs": [
        {
          "output_type": "stream",
          "text": [
            "105, 140, 175, 210, 245, 280, 315, 350, 385\n"
          ],
          "name": "stdout"
        }
      ]
    },
    {
      "cell_type": "code",
      "metadata": {
        "id": "zbsP8QlAgRSn",
        "colab_type": "code",
        "colab": {
          "base_uri": "https://localhost:8080/",
          "height": 54
        },
        "outputId": "1754b3de-9018-495a-ea6f-ff7b6dfb1873"
      },
      "source": [
        "# Write a Python program to find  prime numbers between 200 and 600 (both included). The numbers obtained should be printed in a comma-separated sequence\n",
        "print(str([x for x in range(200,601) if all(x%i!=0 for i in range(2,x//2+1))])[1:-1])"
      ],
      "execution_count": 2,
      "outputs": [
        {
          "output_type": "stream",
          "text": [
            "211, 223, 227, 229, 233, 239, 241, 251, 257, 263, 269, 271, 277, 281, 283, 293, 307, 311, 313, 317, 331, 337, 347, 349, 353, 359, 367, 373, 379, 383, 389, 397, 401, 409, 419, 421, 431, 433, 439, 443, 449, 457, 461, 463, 467, 479, 487, 491, 499, 503, 509, 521, 523, 541, 547, 557, 563, 569, 571, 577, 587, 593, 599\n"
          ],
          "name": "stdout"
        }
      ]
    },
    {
      "cell_type": "code",
      "metadata": {
        "id": "czrYALJzgV1R",
        "colab_type": "code",
        "colab": {
          "base_uri": "https://localhost:8080/",
          "height": 67
        },
        "outputId": "26e8d754-1ec5-4281-c62c-cfa033e8e4a4"
      },
      "source": [
        "# Write a Python program to find All Numbers which are Odd and Palindromes Between a Range of Numbers without using Recursion. The numbers obtained should be printed in a comma-separated sequence\n",
        "print(','.join([str(x) for x in range(int(input(\"Enter lower limit : \")),int(input(\"Enter upper limit : \"))+1) if x%2==1 and str(x)[::-1] == str(x)]))"
      ],
      "execution_count": 3,
      "outputs": [
        {
          "output_type": "stream",
          "text": [
            "Enter lower limit : 250\n",
            "Enter upper limit : 600\n",
            "303,313,323,333,343,353,363,373,383,393,505,515,525,535,545,555,565,575,585,595\n"
          ],
          "name": "stdout"
        }
      ]
    },
    {
      "cell_type": "code",
      "metadata": {
        "id": "WCrxhhWJgYyN",
        "colab_type": "code",
        "colab": {
          "base_uri": "https://localhost:8080/",
          "height": 50
        },
        "outputId": "72c011cf-65ae-464a-d29c-fdafb7c5b0aa"
      },
      "source": [
        "\n",
        "# Write a Python Program to read a number n and print the series “5+10+…..+n = sum upto n ” . The numbers should be printed  as they are  shown in the quotes with sum of numbers upto n \n",
        "n = int(input(\"Enter the limit : \"))\n",
        "for x in range(1,n+1):\n",
        "  if x != n:\n",
        "    print(str(x*5),end = '+')\n",
        "  else:\n",
        "    print(str(x*n),end = ' = ')\n",
        "print(5*n*(n+1)//2)"
      ],
      "execution_count": 4,
      "outputs": [
        {
          "output_type": "stream",
          "text": [
            "Enter the limit : 10\n",
            "5+10+15+20+25+30+35+40+45+100 = 275\n"
          ],
          "name": "stdout"
        }
      ]
    },
    {
      "cell_type": "code",
      "metadata": {
        "id": "FtpemcO9gfMu",
        "colab_type": "code",
        "colab": {}
      },
      "source": [
        ""
      ],
      "execution_count": null,
      "outputs": []
    }
  ]
}